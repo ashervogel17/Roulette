{
 "cells": [
  {
   "cell_type": "code",
   "execution_count": 1,
   "id": "dd09d880",
   "metadata": {},
   "outputs": [],
   "source": [
    "import numpy as np\n",
    "import random\n",
    "import matplotlib.pyplot as plt"
   ]
  },
  {
   "cell_type": "code",
   "execution_count": 2,
   "id": "7b4705c3",
   "metadata": {},
   "outputs": [],
   "source": [
    "class Wheel:\n",
    "    def __init__(self):\n",
    "        self.wheel = {\n",
    "            0: \"g\",\n",
    "            32: \"r\",\n",
    "            15: \"b\",\n",
    "            19: \"r\",\n",
    "            4: \"b\",\n",
    "            21: \"r\",\n",
    "            2: \"b\",\n",
    "            25: \"r\",\n",
    "            17: \"b\",\n",
    "            34: \"r\",\n",
    "            6: \"b\",\n",
    "            27: \"r\",\n",
    "            13: \"b\",\n",
    "            36: \"\",\n",
    "            11: \"b\",\n",
    "            30: \"r\",\n",
    "            8: \"b\",\n",
    "            23: \"r\",\n",
    "            10: \"b\",\n",
    "            5: \"r\",\n",
    "            24: \"b\",\n",
    "            16: \"r\",\n",
    "            33: \"b\",\n",
    "            1: \"r\",\n",
    "            20: \"b\",\n",
    "            14: \"r\",\n",
    "            31: \"b\",\n",
    "            9: \"r\",\n",
    "            22: \"b\",\n",
    "            18: \"r\",\n",
    "            29: \"b\",\n",
    "            7: \"r\",\n",
    "            28: \"b\",\n",
    "            12: \"r\",\n",
    "            35: \"b\",\n",
    "            3: \"r\",\n",
    "            26: \"b\",\n",
    "        }\n",
    "    \n",
    "    # return a tuple containing a random integer from 0 to 36 inclusive and the corresponding color\n",
    "    def spin(self):\n",
    "        i = random.randint(0, 36)\n",
    "        return (i, self.wheel[i])\n",
    "    "
   ]
  },
  {
   "cell_type": "code",
   "execution_count": 3,
   "id": "5b6b5c55",
   "metadata": {},
   "outputs": [],
   "source": [
    "class Roulette:\n",
    "    def __init__(self, starting_amount):\n",
    "        self.balance = [starting_amount]\n",
    "        self.wheel = Wheel()\n",
    "    \n",
    "    # takes an array of bets represented by tuples: (bet_type, amount, bet_numbers)\n",
    "    # updates balance\n",
    "    def bet(self, bets, print_outcome=False):\n",
    "        if self.balance[-1] <= 0:\n",
    "            return\n",
    "        winnings = 0\n",
    "        (number, color) = self.wheel.spin()\n",
    "        for (bet_type, amount, bet_numbers) in bets:\n",
    "            if self.balance[-1] >= amount:\n",
    "                winnings += self.validate_bet(bet_type, amount, number, color, bet_numbers)\n",
    "        if print_outcome:\n",
    "            print(winnings)\n",
    "        if self.balance[-1] + winnings >= 0:\n",
    "            self.balance.append(self.balance[-1] + winnings)\n",
    "    \n",
    "    # implements the Martingale betting strategy\n",
    "    # Paramters:\n",
    "    #     int init_bet: the size of the initial bet\n",
    "    #     int iters: the number of times to run through the Martingale system\n",
    "    #     Boolean limit: False for unlimited credit supply, True for realistic Martingale\n",
    "    # updates balance\n",
    "    # returns a numpy array with the number of spins in each iteration of the Martingale\n",
    "    def bet_martingale(self, init_bet, iters, limit):\n",
    "        spins = [] # number of spins until won bet or until bet size exceeds balance\n",
    "        for i in range(iters):\n",
    "            winnings = 0\n",
    "            count = 0 # counts number of spins\n",
    "            bet_size = init_bet\n",
    "            while True:\n",
    "                (number, color) = self.wheel.spin() # spin wheel\n",
    "                count += 1 # increment spin count\n",
    "                # break while loop if bet size exceeds balance\n",
    "                if limit and bet_size > self.balance[-1] + winnings:\n",
    "                    break\n",
    "                # update winnings\n",
    "                res = self.validate_bet(\"red\", bet_size, number, color)\n",
    "                winnings += res\n",
    "                # check if bet won or lost\n",
    "                if res > 0:\n",
    "                    break\n",
    "                # double bet size\n",
    "                bet_size = bet_size * 2\n",
    "            self.balance.append(self.balance[-1] + winnings)\n",
    "            if limit and init_bet > self.balance[-1]:\n",
    "                    break\n",
    "            spins.append(count)\n",
    "        return np.array(spins)\n",
    "    \n",
    "    # Parameters\n",
    "    #     String bet_type: red, black, even, odd, low, high, first dozen, middle dozen, last dozen, column,\n",
    "    #               line, corner, street, split, straight up\n",
    "    #     int amount: size of the bet\n",
    "    #     int number: number on the wheel\n",
    "    #     String color: color of number on the wheel\n",
    "    #     bet_numbers: N/A for red, black, even, odd, low, high, first dozen, middle dozen, last dozen;\n",
    "    #                  set of integers for column, line, corner, street, split, straight up\n",
    "    # Returns the payout of the bet (=-amount for a loss)\n",
    "    def validate_bet(self, bet_type, amount, number, color, bet_numbers=set()):\n",
    "        mult = -1\n",
    "        \n",
    "        if bet_type == \"straight up\":\n",
    "            if number in bet_numbers:\n",
    "                mult = 35\n",
    "        elif number == 0:\n",
    "            mult = -1\n",
    "        elif bet_type == \"red\":\n",
    "            if color == \"r\":\n",
    "                mult = 1\n",
    "        elif bet_type == \"black\":\n",
    "            if color == \"b\":\n",
    "                mult = 1\n",
    "        elif bet_type == \"even\":\n",
    "            if number % 2 == 0:\n",
    "                mult = 1\n",
    "        elif bet_type == \"odd\":\n",
    "            if number % 2 != 0:\n",
    "                mult = 1\n",
    "        elif bet_type == \"low\":\n",
    "            if number <= 18:\n",
    "                mult = 1\n",
    "        elif bet_type == \"high\":\n",
    "            if number >= 19:\n",
    "                mult = 1\n",
    "        elif bet_type == \"first dozen\":\n",
    "            if number <= 12:\n",
    "                mult = 2\n",
    "        elif bet_type == \"middle dozen\":\n",
    "            if number >= 13 and number <= 24:\n",
    "                mult = 2\n",
    "        elif bet_type == \"last dozen\":\n",
    "            if number >= 25:\n",
    "                mult = 2\n",
    "        elif bet_type == \"column\":\n",
    "            if number in bet_numbers:\n",
    "                mult = 2\n",
    "        elif bet_type == \"line\":\n",
    "            if number in bet_numbers:\n",
    "                mult = 5\n",
    "        elif bet_type == \"corner\":\n",
    "            if number in bet_numbers:\n",
    "                mult = 8\n",
    "        elif bet_type == \"street\":\n",
    "            if number in bet_numbers:\n",
    "                mult = 11\n",
    "        elif bet_type == \"split\":\n",
    "            if number in bet_numbers:\n",
    "                mult = 17\n",
    "        else:\n",
    "            print(\"Invalid Bet\")\n",
    "            return 0\n",
    "        \n",
    "        return mult * amount\n",
    "    \n",
    "    def display(self, print_curr_balance=True, print_balance_history=False):\n",
    "        if print_curr_balance:\n",
    "            print(\"Current balance: $\" + str(self.balance[-1]))\n",
    "        if print_balance_history:\n",
    "            print(\"Balance history: \" + str(self.balance))\n",
    "        \n",
    "        plt.plot(self.balance)\n",
    "        "
   ]
  },
  {
   "cell_type": "markdown",
   "id": "9779746a",
   "metadata": {},
   "source": [
    "# Expected Value Demo"
   ]
  },
  {
   "cell_type": "code",
   "execution_count": 11,
   "id": "528bf766",
   "metadata": {},
   "outputs": [
    {
     "name": "stdout",
     "output_type": "stream",
     "text": [
      "Highest Balance: $3600.0\n",
      "Lowest Balance: $0.0\n",
      "Mean Balance: $973.5453\n",
      "Median Balance: $800.0\n"
     ]
    }
   ],
   "source": [
    "# Bet $1,000 on one spin one million times - average balance should be ~$973\n",
    "num_games = 1000000\n",
    "balances = np.zeros([num_games])\n",
    "\n",
    "for i in range(num_games):\n",
    "    game = Roulette(1000)\n",
    "    game.bet([(\"straight up\", 100, {3}), (\"black\", 400, set()), (\"middle dozen\", 500, set())])\n",
    "    # add balance to np array\n",
    "    balances[i] = game.balance[-1]\n",
    "\n",
    "print(\"Highest Balance: $\" + str(np.max(balances)))\n",
    "print(\"Lowest Balance: $\" + str(np.min(balances)))\n",
    "print(\"Mean Balance: $\" + str(np.average(balances)))\n",
    "print(\"Median Balance: $\" + str(np.median(balances)))"
   ]
  },
  {
   "cell_type": "markdown",
   "id": "b582a4ab",
   "metadata": {},
   "source": [
    "# Law of Large Numbers Demos"
   ]
  },
  {
   "cell_type": "code",
   "execution_count": 14,
   "id": "090e3913",
   "metadata": {},
   "outputs": [
    {
     "name": "stdout",
     "output_type": "stream",
     "text": [
      "Bankrupt after 178 rounds.\n",
      "Current balance: $0\n"
     ]
    },
    {
     "data": {
      "image/png": "[encoded data removed]",
      "text/plain": [
       "<Figure size 432x288 with 1 Axes>"
      ]
     },
     "metadata": {
      "needs_background": "light"
     },
     "output_type": "display_data"
    }
   ],
   "source": [
    "# starts a game of roulete with a balance of $1000. Shows balance as a function of spins played\n",
    "# player balance should converge to $0\n",
    "game = Roulette(1000)\n",
    "for i in range(100000):\n",
    "    game.bet([(\"high\", 1, set()), (\"straight up\", random.randint(1,10), {3}),\n",
    "              (\"corner\", random.randint(1,10), {5, 6, 8, 9}), (\"street\", random.randint(1,10), {16, 17, 18})])\n",
    "    if game.balance[-1] == 0:\n",
    "        print(\"Bankrupt after \" + str(len(game.balance)) + \" rounds.\")\n",
    "        break\n",
    "\n",
    "game.display()"
   ]
  },
  {
   "cell_type": "code",
   "execution_count": 40,
   "id": "5432be29",
   "metadata": {},
   "outputs": [
    {
     "name": "stdout",
     "output_type": "stream",
     "text": [
      "Highest Balance: $2179.0\n",
      "Lowest Balance: $1.0\n",
      "Mean Balance: $212.2\n",
      "Median Balance: $1.0\n"
     ]
    }
   ],
   "source": [
    "# Play 100 games of roulette, each game betting on 200 spins - average balance should be nearly zero\n",
    "num_games = 100\n",
    "balances = np.zeros([num_games])\n",
    "\n",
    "# play roulette 10,000 times\n",
    "for i in range(num_games):\n",
    "    game = Roulette(100)\n",
    "    # bet on 200 spins\n",
    "    for j in range(200):\n",
    "        game.bet([(\"straight up\", 5, {2}), (\"straight up\", 6, {34}), (\"middle dozen\", 7, set())])\n",
    "    # add balance to np array\n",
    "    balances[i] = game.balance[-1]\n",
    "\n",
    "print(\"Highest Balance: $\" + str(np.max(balances)))\n",
    "print(\"Lowest Balance: $\" + str(np.min(balances)))\n",
    "print(\"Mean Balance: $\" + str(np.average(balances)))\n",
    "print(\"Median Balance: $\" + str(np.median(balances)))"
   ]
  },
  {
   "cell_type": "markdown",
   "id": "4634e8a7",
   "metadata": {},
   "source": [
    "# Unlimited Martingale System"
   ]
  },
  {
   "cell_type": "code",
   "execution_count": 42,
   "id": "ac57c5d7",
   "metadata": {},
   "outputs": [
    {
     "name": "stdout",
     "output_type": "stream",
     "text": [
      "Most Number of Spins Until Win: 8\n",
      "Fewest Number of Spins Until Win: 1\n",
      "Mean Number of Spins Until Win: 2.41\n",
      "Median Number of Spins Until Win: 2.0\n",
      "Current balance: $2000\n"
     ]
    },
    {
     "data": {
      "image/png": "[encoded data removed]",
      "text/plain": [
       "<Figure size 432x288 with 1 Axes>"
      ]
     },
     "metadata": {
      "needs_background": "light"
     },
     "output_type": "display_data"
    }
   ],
   "source": [
    "# start with $1000\n",
    "# run the infinite Martingale system 1000 times with a $10 initial bet\n",
    "# since this theoritcal unlimited Martingale system never fails, the final balance should be $2,000\n",
    "\n",
    "game = Roulette(1000)\n",
    "init_bet = 10\n",
    "iters = 100\n",
    "spins = game.bet_martingale(init_bet, iters, False)\n",
    "print(\"Most Number of Spins Until Win: \" + str(np.max(spins)))\n",
    "print(\"Fewest Number of Spins Until Win: \" + str(np.min(spins)))\n",
    "print(\"Mean Number of Spins Until Win: \" + str(np.mean(spins)))\n",
    "print(\"Median Number of Spins Until Win: \" + str(np.median(spins)))\n",
    "game.display()"
   ]
  },
  {
   "cell_type": "markdown",
   "id": "54d6d584",
   "metadata": {},
   "source": [
    "# Realistic Martingale System"
   ]
  },
  {
   "cell_type": "code",
   "execution_count": 46,
   "id": "8a947cc7",
   "metadata": {},
   "outputs": [
    {
     "name": "stdout",
     "output_type": "stream",
     "text": [
      "Most Number of Spins Until Win/Loss: 12\n",
      "Fewest Number of Spins Until Win/Loss: 1\n",
      "Mean Number of Spins Until Win/Loss: 2.188267394270123\n",
      "Median Number of Spins Until Win/Loss: 2.0\n",
      "Current balance: $0\n",
      "Bankrupt after 2199 iterations of the Martingale system.\n"
     ]
    },
    {
     "data": {
      "image/png": "[encoded data removed]",
      "text/plain": [
       "<Figure size 432x288 with 1 Axes>"
      ]
     },
     "metadata": {
      "needs_background": "light"
     },
     "output_type": "display_data"
    }
   ],
   "source": [
    "# start with $1000\n",
    "# run the realistic Martingale system (cannot bet more than current balance) 1000 times with a $10 initial bet\n",
    "game = Roulette(1000)\n",
    "init_bet = 1\n",
    "iters = 10000\n",
    "spins = game.bet_martingale(init_bet, iters, True)\n",
    "print(\"Most Number of Spins Until Win/Loss: \" + str(np.max(spins)))\n",
    "print(\"Fewest Number of Spins Until Win/Loss: \" + str(np.min(spins)))\n",
    "print(\"Mean Number of Spins Until Win/Loss: \" + str(np.mean(spins)))\n",
    "print(\"Median Number of Spins Until Win/Loss: \" + str(np.median(spins)))\n",
    "game.display()\n",
    "if game.balance[-1] < init_bet:\n",
    "    print(\"Bankrupt after \" + str(len(spins)) + \" iterations of the Martingale system.\")"
   ]
  },
  {
   "cell_type": "code",
   "execution_count": null,
   "id": "eeb33a93",
   "metadata": {},
   "outputs": [],
   "source": []
  },
  {
   "cell_type": "code",
   "execution_count": null,
   "id": "dca1f1c9",
   "metadata": {},
   "outputs": [],
   "source": []
  },
  {
   "cell_type": "code",
   "execution_count": null,
   "id": "5d942018",
   "metadata": {},
   "outputs": [],
   "source": []
  },
  {
   "cell_type": "code",
   "execution_count": null,
   "id": "1eaf9381",
   "metadata": {},
   "outputs": [],
   "source": []
  }
 ],
 "metadata": {
  "kernelspec": {
   "display_name": "Python 3 (ipykernel)",
   "language": "python",
   "name": "python3"
  },
  "language_info": {
   "codemirror_mode": {
    "name": "ipython",
    "version": 3
   },
   "file_extension": ".py",
   "mimetype": "text/x-python",
   "name": "python",
   "nbconvert_exporter": "python",
   "pygments_lexer": "ipython3",
   "version": "3.8.5"
  }
 },
 "nbformat": 4,
 "nbformat_minor": 5
}
